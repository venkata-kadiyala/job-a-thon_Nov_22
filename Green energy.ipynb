{
 "cells": [
  {
   "cell_type": "code",
   "execution_count": 281,
   "id": "b438fcc4",
   "metadata": {},
   "outputs": [],
   "source": [
    "import pandas as pd\n",
    "import numpy as np\n",
    "import matplotlib.pyplot as plt\n",
    "%matplotlib inline"
   ]
  },
  {
   "cell_type": "code",
   "execution_count": 282,
   "id": "0dc67c77",
   "metadata": {},
   "outputs": [
    {
     "name": "stdout",
     "output_type": "stream",
     "text": [
      "D:\\Data Science\\Python\\Forecast Green Energy - jobathon\n"
     ]
    }
   ],
   "source": [
    "import io\n",
    "%cd \"D:\\Data Science\\Python\\Forecast Green Energy - jobathon\""
   ]
  },
  {
   "cell_type": "code",
   "execution_count": 283,
   "id": "96e645be",
   "metadata": {},
   "outputs": [],
   "source": [
    "energy_train=pd.read_csv('train_IxoE5JN.csv')"
   ]
  },
  {
   "cell_type": "code",
   "execution_count": 284,
   "id": "f2925f74",
   "metadata": {},
   "outputs": [],
   "source": [
    "energy_test=pd.read_csv('test_WudNWDM.csv')"
   ]
  },
  {
   "cell_type": "code",
   "execution_count": 285,
   "id": "7495595f",
   "metadata": {},
   "outputs": [
    {
     "name": "stdout",
     "output_type": "stream",
     "text": [
      "(94992, 3)\n",
      "(26304, 2)\n"
     ]
    }
   ],
   "source": [
    "print(energy_train.shape)\n",
    "print(energy_test.shape)"
   ]
  },
  {
   "cell_type": "code",
   "execution_count": 286,
   "id": "d7c31a42",
   "metadata": {},
   "outputs": [
    {
     "data": {
      "text/html": [
       "<div>\n",
       "<style scoped>\n",
       "    .dataframe tbody tr th:only-of-type {\n",
       "        vertical-align: middle;\n",
       "    }\n",
       "\n",
       "    .dataframe tbody tr th {\n",
       "        vertical-align: top;\n",
       "    }\n",
       "\n",
       "    .dataframe thead th {\n",
       "        text-align: right;\n",
       "    }\n",
       "</style>\n",
       "<table border=\"1\" class=\"dataframe\">\n",
       "  <thead>\n",
       "    <tr style=\"text-align: right;\">\n",
       "      <th></th>\n",
       "      <th>row_id</th>\n",
       "      <th>datetime</th>\n",
       "      <th>energy</th>\n",
       "    </tr>\n",
       "  </thead>\n",
       "  <tbody>\n",
       "    <tr>\n",
       "      <th>0</th>\n",
       "      <td>1</td>\n",
       "      <td>2008-03-01 00:00:00</td>\n",
       "      <td>1259.985563</td>\n",
       "    </tr>\n",
       "    <tr>\n",
       "      <th>1</th>\n",
       "      <td>2</td>\n",
       "      <td>2008-03-01 01:00:00</td>\n",
       "      <td>1095.541500</td>\n",
       "    </tr>\n",
       "    <tr>\n",
       "      <th>2</th>\n",
       "      <td>3</td>\n",
       "      <td>2008-03-01 02:00:00</td>\n",
       "      <td>1056.247500</td>\n",
       "    </tr>\n",
       "    <tr>\n",
       "      <th>3</th>\n",
       "      <td>4</td>\n",
       "      <td>2008-03-01 03:00:00</td>\n",
       "      <td>1034.742000</td>\n",
       "    </tr>\n",
       "    <tr>\n",
       "      <th>4</th>\n",
       "      <td>5</td>\n",
       "      <td>2008-03-01 04:00:00</td>\n",
       "      <td>1026.334500</td>\n",
       "    </tr>\n",
       "  </tbody>\n",
       "</table>\n",
       "</div>"
      ],
      "text/plain": [
       "   row_id             datetime       energy\n",
       "0       1  2008-03-01 00:00:00  1259.985563\n",
       "1       2  2008-03-01 01:00:00  1095.541500\n",
       "2       3  2008-03-01 02:00:00  1056.247500\n",
       "3       4  2008-03-01 03:00:00  1034.742000\n",
       "4       5  2008-03-01 04:00:00  1026.334500"
      ]
     },
     "execution_count": 286,
     "metadata": {},
     "output_type": "execute_result"
    }
   ],
   "source": [
    "energy_train.head()"
   ]
  },
  {
   "cell_type": "code",
   "execution_count": 287,
   "id": "d92e3545",
   "metadata": {},
   "outputs": [
    {
     "data": {
      "text/html": [
       "<div>\n",
       "<style scoped>\n",
       "    .dataframe tbody tr th:only-of-type {\n",
       "        vertical-align: middle;\n",
       "    }\n",
       "\n",
       "    .dataframe tbody tr th {\n",
       "        vertical-align: top;\n",
       "    }\n",
       "\n",
       "    .dataframe thead th {\n",
       "        text-align: right;\n",
       "    }\n",
       "</style>\n",
       "<table border=\"1\" class=\"dataframe\">\n",
       "  <thead>\n",
       "    <tr style=\"text-align: right;\">\n",
       "      <th></th>\n",
       "      <th>row_id</th>\n",
       "      <th>datetime</th>\n",
       "    </tr>\n",
       "  </thead>\n",
       "  <tbody>\n",
       "    <tr>\n",
       "      <th>0</th>\n",
       "      <td>94993</td>\n",
       "      <td>2019-01-01 00:00:00</td>\n",
       "    </tr>\n",
       "    <tr>\n",
       "      <th>1</th>\n",
       "      <td>94994</td>\n",
       "      <td>2019-01-01 01:00:00</td>\n",
       "    </tr>\n",
       "    <tr>\n",
       "      <th>2</th>\n",
       "      <td>94995</td>\n",
       "      <td>2019-01-01 02:00:00</td>\n",
       "    </tr>\n",
       "    <tr>\n",
       "      <th>3</th>\n",
       "      <td>94996</td>\n",
       "      <td>2019-01-01 03:00:00</td>\n",
       "    </tr>\n",
       "    <tr>\n",
       "      <th>4</th>\n",
       "      <td>94997</td>\n",
       "      <td>2019-01-01 04:00:00</td>\n",
       "    </tr>\n",
       "  </tbody>\n",
       "</table>\n",
       "</div>"
      ],
      "text/plain": [
       "   row_id             datetime\n",
       "0   94993  2019-01-01 00:00:00\n",
       "1   94994  2019-01-01 01:00:00\n",
       "2   94995  2019-01-01 02:00:00\n",
       "3   94996  2019-01-01 03:00:00\n",
       "4   94997  2019-01-01 04:00:00"
      ]
     },
     "execution_count": 287,
     "metadata": {},
     "output_type": "execute_result"
    }
   ],
   "source": [
    "energy_test.head()"
   ]
  },
  {
   "cell_type": "code",
   "execution_count": 288,
   "id": "4e218bac",
   "metadata": {},
   "outputs": [
    {
     "name": "stdout",
     "output_type": "stream",
     "text": [
      "<class 'pandas.core.frame.DataFrame'>\n",
      "RangeIndex: 94992 entries, 0 to 94991\n",
      "Data columns (total 3 columns):\n",
      " #   Column    Non-Null Count  Dtype  \n",
      "---  ------    --------------  -----  \n",
      " 0   row_id    94992 non-null  int64  \n",
      " 1   datetime  94992 non-null  object \n",
      " 2   energy    93092 non-null  float64\n",
      "dtypes: float64(1), int64(1), object(1)\n",
      "memory usage: 2.2+ MB\n"
     ]
    }
   ],
   "source": [
    "energy_train.info()"
   ]
  },
  {
   "cell_type": "code",
   "execution_count": 289,
   "id": "dd6c3c74",
   "metadata": {},
   "outputs": [
    {
     "name": "stdout",
     "output_type": "stream",
     "text": [
      "<class 'pandas.core.frame.DataFrame'>\n",
      "RangeIndex: 26304 entries, 0 to 26303\n",
      "Data columns (total 2 columns):\n",
      " #   Column    Non-Null Count  Dtype \n",
      "---  ------    --------------  ----- \n",
      " 0   row_id    26304 non-null  int64 \n",
      " 1   datetime  26304 non-null  object\n",
      "dtypes: int64(1), object(1)\n",
      "memory usage: 411.1+ KB\n"
     ]
    }
   ],
   "source": [
    "energy_test.info()"
   ]
  },
  {
   "cell_type": "code",
   "execution_count": 290,
   "id": "51953a73",
   "metadata": {},
   "outputs": [],
   "source": [
    "energy_train.datetime=pd.to_datetime(energy_train.datetime, errors=\"coerce\")\n",
    "energy_test.datetime=pd.to_datetime(energy_test.datetime, errors=\"coerce\")"
   ]
  },
  {
   "cell_type": "code",
   "execution_count": 291,
   "id": "2e429365",
   "metadata": {},
   "outputs": [
    {
     "name": "stdout",
     "output_type": "stream",
     "text": [
      "<class 'pandas.core.frame.DataFrame'>\n",
      "RangeIndex: 94992 entries, 0 to 94991\n",
      "Data columns (total 3 columns):\n",
      " #   Column    Non-Null Count  Dtype         \n",
      "---  ------    --------------  -----         \n",
      " 0   row_id    94992 non-null  int64         \n",
      " 1   datetime  94992 non-null  datetime64[ns]\n",
      " 2   energy    93092 non-null  float64       \n",
      "dtypes: datetime64[ns](1), float64(1), int64(1)\n",
      "memory usage: 2.2 MB\n"
     ]
    }
   ],
   "source": [
    "energy_train.info()"
   ]
  },
  {
   "cell_type": "code",
   "execution_count": 292,
   "id": "381f6fc4",
   "metadata": {},
   "outputs": [
    {
     "name": "stdout",
     "output_type": "stream",
     "text": [
      "<class 'pandas.core.frame.DataFrame'>\n",
      "RangeIndex: 26304 entries, 0 to 26303\n",
      "Data columns (total 2 columns):\n",
      " #   Column    Non-Null Count  Dtype         \n",
      "---  ------    --------------  -----         \n",
      " 0   row_id    26304 non-null  int64         \n",
      " 1   datetime  26304 non-null  datetime64[ns]\n",
      "dtypes: datetime64[ns](1), int64(1)\n",
      "memory usage: 411.1 KB\n"
     ]
    }
   ],
   "source": [
    "energy_test.info()"
   ]
  },
  {
   "cell_type": "code",
   "execution_count": 293,
   "id": "af9e3fdf",
   "metadata": {},
   "outputs": [],
   "source": [
    "energy_train=energy_train.drop(['row_id'],axis=1)"
   ]
  },
  {
   "cell_type": "code",
   "execution_count": 294,
   "id": "4e543037",
   "metadata": {},
   "outputs": [],
   "source": [
    "energy_test=energy_test.drop(['row_id'],axis=1)"
   ]
  },
  {
   "cell_type": "code",
   "execution_count": 295,
   "id": "1ca932df",
   "metadata": {},
   "outputs": [],
   "source": [
    "energy_train=energy_train.set_index('datetime')"
   ]
  },
  {
   "cell_type": "code",
   "execution_count": 296,
   "id": "f42b44d4",
   "metadata": {},
   "outputs": [
    {
     "data": {
      "text/html": [
       "<div>\n",
       "<style scoped>\n",
       "    .dataframe tbody tr th:only-of-type {\n",
       "        vertical-align: middle;\n",
       "    }\n",
       "\n",
       "    .dataframe tbody tr th {\n",
       "        vertical-align: top;\n",
       "    }\n",
       "\n",
       "    .dataframe thead th {\n",
       "        text-align: right;\n",
       "    }\n",
       "</style>\n",
       "<table border=\"1\" class=\"dataframe\">\n",
       "  <thead>\n",
       "    <tr style=\"text-align: right;\">\n",
       "      <th></th>\n",
       "      <th>energy</th>\n",
       "    </tr>\n",
       "    <tr>\n",
       "      <th>datetime</th>\n",
       "      <th></th>\n",
       "    </tr>\n",
       "  </thead>\n",
       "  <tbody>\n",
       "    <tr>\n",
       "      <th>2008-03-01 00:00:00</th>\n",
       "      <td>1259.985563</td>\n",
       "    </tr>\n",
       "    <tr>\n",
       "      <th>2008-03-01 01:00:00</th>\n",
       "      <td>1095.541500</td>\n",
       "    </tr>\n",
       "    <tr>\n",
       "      <th>2008-03-01 02:00:00</th>\n",
       "      <td>1056.247500</td>\n",
       "    </tr>\n",
       "    <tr>\n",
       "      <th>2008-03-01 03:00:00</th>\n",
       "      <td>1034.742000</td>\n",
       "    </tr>\n",
       "    <tr>\n",
       "      <th>2008-03-01 04:00:00</th>\n",
       "      <td>1026.334500</td>\n",
       "    </tr>\n",
       "  </tbody>\n",
       "</table>\n",
       "</div>"
      ],
      "text/plain": [
       "                          energy\n",
       "datetime                        \n",
       "2008-03-01 00:00:00  1259.985563\n",
       "2008-03-01 01:00:00  1095.541500\n",
       "2008-03-01 02:00:00  1056.247500\n",
       "2008-03-01 03:00:00  1034.742000\n",
       "2008-03-01 04:00:00  1026.334500"
      ]
     },
     "execution_count": 296,
     "metadata": {},
     "output_type": "execute_result"
    }
   ],
   "source": [
    "energy_train.head()"
   ]
  },
  {
   "cell_type": "code",
   "execution_count": 297,
   "id": "5c9428ca",
   "metadata": {},
   "outputs": [],
   "source": [
    "energy_test=energy_test.set_index('datetime')"
   ]
  },
  {
   "cell_type": "code",
   "execution_count": 298,
   "id": "dbe97d9e",
   "metadata": {},
   "outputs": [
    {
     "data": {
      "text/html": [
       "<div>\n",
       "<style scoped>\n",
       "    .dataframe tbody tr th:only-of-type {\n",
       "        vertical-align: middle;\n",
       "    }\n",
       "\n",
       "    .dataframe tbody tr th {\n",
       "        vertical-align: top;\n",
       "    }\n",
       "\n",
       "    .dataframe thead th {\n",
       "        text-align: right;\n",
       "    }\n",
       "</style>\n",
       "<table border=\"1\" class=\"dataframe\">\n",
       "  <thead>\n",
       "    <tr style=\"text-align: right;\">\n",
       "      <th></th>\n",
       "    </tr>\n",
       "    <tr>\n",
       "      <th>datetime</th>\n",
       "    </tr>\n",
       "  </thead>\n",
       "  <tbody>\n",
       "    <tr>\n",
       "      <th>2019-01-01 00:00:00</th>\n",
       "    </tr>\n",
       "    <tr>\n",
       "      <th>2019-01-01 01:00:00</th>\n",
       "    </tr>\n",
       "    <tr>\n",
       "      <th>2019-01-01 02:00:00</th>\n",
       "    </tr>\n",
       "    <tr>\n",
       "      <th>2019-01-01 03:00:00</th>\n",
       "    </tr>\n",
       "    <tr>\n",
       "      <th>2019-01-01 04:00:00</th>\n",
       "    </tr>\n",
       "  </tbody>\n",
       "</table>\n",
       "</div>"
      ],
      "text/plain": [
       "Empty DataFrame\n",
       "Columns: []\n",
       "Index: [2019-01-01 00:00:00, 2019-01-01 01:00:00, 2019-01-01 02:00:00, 2019-01-01 03:00:00, 2019-01-01 04:00:00]"
      ]
     },
     "execution_count": 298,
     "metadata": {},
     "output_type": "execute_result"
    }
   ],
   "source": [
    "energy_test.head()"
   ]
  },
  {
   "cell_type": "code",
   "execution_count": 299,
   "id": "329511ac",
   "metadata": {},
   "outputs": [
    {
     "data": {
      "text/plain": [
       "energy    1900\n",
       "dtype: int64"
      ]
     },
     "execution_count": 299,
     "metadata": {},
     "output_type": "execute_result"
    }
   ],
   "source": [
    "energy_train.isnull().sum()"
   ]
  },
  {
   "cell_type": "code",
   "execution_count": 300,
   "id": "b2ecde2c",
   "metadata": {},
   "outputs": [],
   "source": [
    "energy_train_imputed=energy_train.fillna(method='ffill')"
   ]
  },
  {
   "cell_type": "code",
   "execution_count": 301,
   "id": "b8914799",
   "metadata": {},
   "outputs": [
    {
     "data": {
      "text/plain": [
       "energy    0\n",
       "dtype: int64"
      ]
     },
     "execution_count": 301,
     "metadata": {},
     "output_type": "execute_result"
    }
   ],
   "source": [
    "energy_train_imputed.isnull().sum()"
   ]
  },
  {
   "cell_type": "code",
   "execution_count": 302,
   "id": "170a48c5",
   "metadata": {},
   "outputs": [
    {
     "data": {
      "text/plain": [
       "<AxesSubplot:xlabel='datetime'>"
      ]
     },
     "execution_count": 302,
     "metadata": {},
     "output_type": "execute_result"
    },
    {
     "data": {
      "image/png": "[encoded data removed]",
      "text/plain": [
       "<Figure size 432x288 with 1 Axes>"
      ]
     },
     "metadata": {
      "needs_background": "light"
     },
     "output_type": "display_data"
    }
   ],
   "source": [
    "energy_train_imputed.plot(kind='line')"
   ]
  },
  {
   "cell_type": "code",
   "execution_count": 303,
   "id": "8ec7d99a",
   "metadata": {},
   "outputs": [],
   "source": [
    "# Augmented Dickey Fuller test of Stationarity\n",
    "# Null - Unit root present or data is not stationary\n",
    "# Alt - No unit Root or Data is Stationary\n",
    "from statsmodels.tsa.stattools import adfuller"
   ]
  },
  {
   "cell_type": "code",
   "execution_count": 304,
   "id": "6949afc1",
   "metadata": {},
   "outputs": [
    {
     "data": {
      "text/plain": [
       "(-9.218570739447443,\n",
       " 1.8057242790627683e-15,\n",
       " 67,\n",
       " 94924,\n",
       " {'1%': -3.4304188917117377,\n",
       "  '5%': -2.8615704490393217,\n",
       "  '10%': -2.5667862069612752},\n",
       " 894318.9282902289)"
      ]
     },
     "execution_count": 304,
     "metadata": {},
     "output_type": "execute_result"
    }
   ],
   "source": [
    "adfuller(energy_train_imputed)\n",
    "#Since p-value=1.8057242790627683e-15 is less than 0.05, Reject Null - Data is Stationary"
   ]
  },
  {
   "cell_type": "code",
   "execution_count": 305,
   "id": "9a10c43c",
   "metadata": {},
   "outputs": [],
   "source": [
    "from statsmodels.tsa.seasonal import seasonal_decompose"
   ]
  },
  {
   "cell_type": "code",
   "execution_count": 306,
   "id": "88a6260f",
   "metadata": {},
   "outputs": [
    {
     "data": {
      "image/png": "[encoded data removed]",
      "text/plain": [
       "<Figure size 432x288 with 4 Axes>"
      ]
     },
     "execution_count": 306,
     "metadata": {},
     "output_type": "execute_result"
    },
    {
     "data": {
      "image/png": "[encoded data removed]",
      "text/plain": [
       "<Figure size 432x288 with 4 Axes>"
      ]
     },
     "metadata": {
      "needs_background": "light"
     },
     "output_type": "display_data"
    }
   ],
   "source": [
    "seasonal_decompose(energy_train_imputed).plot()"
   ]
  },
  {
   "cell_type": "code",
   "execution_count": 307,
   "id": "9b8a42ee",
   "metadata": {},
   "outputs": [],
   "source": [
    "# Arima causing memory error"
   ]
  },
  {
   "cell_type": "code",
   "execution_count": 308,
   "id": "3ec5f04e",
   "metadata": {},
   "outputs": [
    {
     "data": {
      "text/html": [
       "<div>\n",
       "<style scoped>\n",
       "    .dataframe tbody tr th:only-of-type {\n",
       "        vertical-align: middle;\n",
       "    }\n",
       "\n",
       "    .dataframe tbody tr th {\n",
       "        vertical-align: top;\n",
       "    }\n",
       "\n",
       "    .dataframe thead th {\n",
       "        text-align: right;\n",
       "    }\n",
       "</style>\n",
       "<table border=\"1\" class=\"dataframe\">\n",
       "  <thead>\n",
       "    <tr style=\"text-align: right;\">\n",
       "      <th></th>\n",
       "      <th>energy</th>\n",
       "    </tr>\n",
       "    <tr>\n",
       "      <th>datetime</th>\n",
       "      <th></th>\n",
       "    </tr>\n",
       "  </thead>\n",
       "  <tbody>\n",
       "    <tr>\n",
       "      <th>2008-03-01 00:00:00</th>\n",
       "      <td>1259.985563</td>\n",
       "    </tr>\n",
       "    <tr>\n",
       "      <th>2008-03-01 01:00:00</th>\n",
       "      <td>1095.541500</td>\n",
       "    </tr>\n",
       "    <tr>\n",
       "      <th>2008-03-01 02:00:00</th>\n",
       "      <td>1056.247500</td>\n",
       "    </tr>\n",
       "    <tr>\n",
       "      <th>2008-03-01 03:00:00</th>\n",
       "      <td>1034.742000</td>\n",
       "    </tr>\n",
       "    <tr>\n",
       "      <th>2008-03-01 04:00:00</th>\n",
       "      <td>1026.334500</td>\n",
       "    </tr>\n",
       "  </tbody>\n",
       "</table>\n",
       "</div>"
      ],
      "text/plain": [
       "                          energy\n",
       "datetime                        \n",
       "2008-03-01 00:00:00  1259.985563\n",
       "2008-03-01 01:00:00  1095.541500\n",
       "2008-03-01 02:00:00  1056.247500\n",
       "2008-03-01 03:00:00  1034.742000\n",
       "2008-03-01 04:00:00  1026.334500"
      ]
     },
     "execution_count": 308,
     "metadata": {},
     "output_type": "execute_result"
    }
   ],
   "source": [
    "energy_train_imputed.head()"
   ]
  },
  {
   "cell_type": "code",
   "execution_count": 309,
   "id": "40b96b6a",
   "metadata": {},
   "outputs": [],
   "source": [
    "energy_train_imputed=energy_train_imputed.reset_index()\n",
    "energy_test=energy_test.reset_index()"
   ]
  },
  {
   "cell_type": "code",
   "execution_count": 310,
   "id": "e82accc6",
   "metadata": {},
   "outputs": [
    {
     "data": {
      "text/html": [
       "<div>\n",
       "<style scoped>\n",
       "    .dataframe tbody tr th:only-of-type {\n",
       "        vertical-align: middle;\n",
       "    }\n",
       "\n",
       "    .dataframe tbody tr th {\n",
       "        vertical-align: top;\n",
       "    }\n",
       "\n",
       "    .dataframe thead th {\n",
       "        text-align: right;\n",
       "    }\n",
       "</style>\n",
       "<table border=\"1\" class=\"dataframe\">\n",
       "  <thead>\n",
       "    <tr style=\"text-align: right;\">\n",
       "      <th></th>\n",
       "      <th>datetime</th>\n",
       "      <th>energy</th>\n",
       "    </tr>\n",
       "  </thead>\n",
       "  <tbody>\n",
       "    <tr>\n",
       "      <th>0</th>\n",
       "      <td>2008-03-01 00:00:00</td>\n",
       "      <td>1259.985563</td>\n",
       "    </tr>\n",
       "    <tr>\n",
       "      <th>1</th>\n",
       "      <td>2008-03-01 01:00:00</td>\n",
       "      <td>1095.541500</td>\n",
       "    </tr>\n",
       "    <tr>\n",
       "      <th>2</th>\n",
       "      <td>2008-03-01 02:00:00</td>\n",
       "      <td>1056.247500</td>\n",
       "    </tr>\n",
       "    <tr>\n",
       "      <th>3</th>\n",
       "      <td>2008-03-01 03:00:00</td>\n",
       "      <td>1034.742000</td>\n",
       "    </tr>\n",
       "    <tr>\n",
       "      <th>4</th>\n",
       "      <td>2008-03-01 04:00:00</td>\n",
       "      <td>1026.334500</td>\n",
       "    </tr>\n",
       "  </tbody>\n",
       "</table>\n",
       "</div>"
      ],
      "text/plain": [
       "             datetime       energy\n",
       "0 2008-03-01 00:00:00  1259.985563\n",
       "1 2008-03-01 01:00:00  1095.541500\n",
       "2 2008-03-01 02:00:00  1056.247500\n",
       "3 2008-03-01 03:00:00  1034.742000\n",
       "4 2008-03-01 04:00:00  1026.334500"
      ]
     },
     "execution_count": 310,
     "metadata": {},
     "output_type": "execute_result"
    }
   ],
   "source": [
    "energy_train_imputed.head()"
   ]
  },
  {
   "cell_type": "code",
   "execution_count": 311,
   "id": "fd8ec076",
   "metadata": {},
   "outputs": [],
   "source": [
    "energy_train_imputed.columns=['ds','y']\n",
    "energy_test.columns=['ds']"
   ]
  },
  {
   "cell_type": "code",
   "execution_count": 312,
   "id": "b7bc31d4",
   "metadata": {},
   "outputs": [
    {
     "data": {
      "text/html": [
       "<div>\n",
       "<style scoped>\n",
       "    .dataframe tbody tr th:only-of-type {\n",
       "        vertical-align: middle;\n",
       "    }\n",
       "\n",
       "    .dataframe tbody tr th {\n",
       "        vertical-align: top;\n",
       "    }\n",
       "\n",
       "    .dataframe thead th {\n",
       "        text-align: right;\n",
       "    }\n",
       "</style>\n",
       "<table border=\"1\" class=\"dataframe\">\n",
       "  <thead>\n",
       "    <tr style=\"text-align: right;\">\n",
       "      <th></th>\n",
       "      <th>ds</th>\n",
       "      <th>y</th>\n",
       "    </tr>\n",
       "  </thead>\n",
       "  <tbody>\n",
       "    <tr>\n",
       "      <th>0</th>\n",
       "      <td>2008-03-01 00:00:00</td>\n",
       "      <td>1259.985563</td>\n",
       "    </tr>\n",
       "    <tr>\n",
       "      <th>1</th>\n",
       "      <td>2008-03-01 01:00:00</td>\n",
       "      <td>1095.541500</td>\n",
       "    </tr>\n",
       "    <tr>\n",
       "      <th>2</th>\n",
       "      <td>2008-03-01 02:00:00</td>\n",
       "      <td>1056.247500</td>\n",
       "    </tr>\n",
       "    <tr>\n",
       "      <th>3</th>\n",
       "      <td>2008-03-01 03:00:00</td>\n",
       "      <td>1034.742000</td>\n",
       "    </tr>\n",
       "    <tr>\n",
       "      <th>4</th>\n",
       "      <td>2008-03-01 04:00:00</td>\n",
       "      <td>1026.334500</td>\n",
       "    </tr>\n",
       "  </tbody>\n",
       "</table>\n",
       "</div>"
      ],
      "text/plain": [
       "                   ds            y\n",
       "0 2008-03-01 00:00:00  1259.985563\n",
       "1 2008-03-01 01:00:00  1095.541500\n",
       "2 2008-03-01 02:00:00  1056.247500\n",
       "3 2008-03-01 03:00:00  1034.742000\n",
       "4 2008-03-01 04:00:00  1026.334500"
      ]
     },
     "execution_count": 312,
     "metadata": {},
     "output_type": "execute_result"
    }
   ],
   "source": [
    "energy_train_imputed.head()"
   ]
  },
  {
   "cell_type": "code",
   "execution_count": 313,
   "id": "3954115e",
   "metadata": {},
   "outputs": [
    {
     "data": {
      "text/html": [
       "<div>\n",
       "<style scoped>\n",
       "    .dataframe tbody tr th:only-of-type {\n",
       "        vertical-align: middle;\n",
       "    }\n",
       "\n",
       "    .dataframe tbody tr th {\n",
       "        vertical-align: top;\n",
       "    }\n",
       "\n",
       "    .dataframe thead th {\n",
       "        text-align: right;\n",
       "    }\n",
       "</style>\n",
       "<table border=\"1\" class=\"dataframe\">\n",
       "  <thead>\n",
       "    <tr style=\"text-align: right;\">\n",
       "      <th></th>\n",
       "      <th>ds</th>\n",
       "    </tr>\n",
       "  </thead>\n",
       "  <tbody>\n",
       "    <tr>\n",
       "      <th>0</th>\n",
       "      <td>2019-01-01 00:00:00</td>\n",
       "    </tr>\n",
       "    <tr>\n",
       "      <th>1</th>\n",
       "      <td>2019-01-01 01:00:00</td>\n",
       "    </tr>\n",
       "    <tr>\n",
       "      <th>2</th>\n",
       "      <td>2019-01-01 02:00:00</td>\n",
       "    </tr>\n",
       "    <tr>\n",
       "      <th>3</th>\n",
       "      <td>2019-01-01 03:00:00</td>\n",
       "    </tr>\n",
       "    <tr>\n",
       "      <th>4</th>\n",
       "      <td>2019-01-01 04:00:00</td>\n",
       "    </tr>\n",
       "  </tbody>\n",
       "</table>\n",
       "</div>"
      ],
      "text/plain": [
       "                   ds\n",
       "0 2019-01-01 00:00:00\n",
       "1 2019-01-01 01:00:00\n",
       "2 2019-01-01 02:00:00\n",
       "3 2019-01-01 03:00:00\n",
       "4 2019-01-01 04:00:00"
      ]
     },
     "execution_count": 313,
     "metadata": {},
     "output_type": "execute_result"
    }
   ],
   "source": [
    "energy_test.head()"
   ]
  },
  {
   "cell_type": "code",
   "execution_count": 314,
   "id": "78c02d33",
   "metadata": {},
   "outputs": [],
   "source": [
    "from prophet import Prophet"
   ]
  },
  {
   "cell_type": "code",
   "execution_count": 315,
   "id": "dc1d031c",
   "metadata": {},
   "outputs": [],
   "source": [
    "m=Prophet()"
   ]
  },
  {
   "cell_type": "code",
   "execution_count": 316,
   "id": "c63817c4",
   "metadata": {},
   "outputs": [
    {
     "name": "stderr",
     "output_type": "stream",
     "text": [
      "18:42:49 - cmdstanpy - INFO - Chain [1] start processing\n",
      "18:45:07 - cmdstanpy - INFO - Chain [1] done processing\n"
     ]
    },
    {
     "data": {
      "text/plain": [
       "<prophet.forecaster.Prophet at 0x2aa02f18eb0>"
      ]
     },
     "execution_count": 316,
     "metadata": {},
     "output_type": "execute_result"
    }
   ],
   "source": [
    "m.fit(energy_train_imputed)"
   ]
  },
  {
   "cell_type": "code",
   "execution_count": 317,
   "id": "e041bff6",
   "metadata": {},
   "outputs": [],
   "source": [
    "forecast=m.predict(energy_test)"
   ]
  },
  {
   "cell_type": "code",
   "execution_count": 318,
   "id": "62396012",
   "metadata": {},
   "outputs": [
    {
     "data": {
      "text/html": [
       "<div>\n",
       "<style scoped>\n",
       "    .dataframe tbody tr th:only-of-type {\n",
       "        vertical-align: middle;\n",
       "    }\n",
       "\n",
       "    .dataframe tbody tr th {\n",
       "        vertical-align: top;\n",
       "    }\n",
       "\n",
       "    .dataframe thead th {\n",
       "        text-align: right;\n",
       "    }\n",
       "</style>\n",
       "<table border=\"1\" class=\"dataframe\">\n",
       "  <thead>\n",
       "    <tr style=\"text-align: right;\">\n",
       "      <th></th>\n",
       "      <th>ds</th>\n",
       "      <th>yhat</th>\n",
       "      <th>yhat_lower</th>\n",
       "      <th>yhat_upper</th>\n",
       "    </tr>\n",
       "  </thead>\n",
       "  <tbody>\n",
       "    <tr>\n",
       "      <th>26299</th>\n",
       "      <td>2021-12-31 19:00:00</td>\n",
       "      <td>2563.448142</td>\n",
       "      <td>364.654846</td>\n",
       "      <td>4914.706670</td>\n",
       "    </tr>\n",
       "    <tr>\n",
       "      <th>26300</th>\n",
       "      <td>2021-12-31 20:00:00</td>\n",
       "      <td>2576.594882</td>\n",
       "      <td>340.664265</td>\n",
       "      <td>4935.548038</td>\n",
       "    </tr>\n",
       "    <tr>\n",
       "      <th>26301</th>\n",
       "      <td>2021-12-31 21:00:00</td>\n",
       "      <td>2561.483319</td>\n",
       "      <td>369.497415</td>\n",
       "      <td>4879.978529</td>\n",
       "    </tr>\n",
       "    <tr>\n",
       "      <th>26302</th>\n",
       "      <td>2021-12-31 22:00:00</td>\n",
       "      <td>2509.228175</td>\n",
       "      <td>302.801843</td>\n",
       "      <td>4770.486752</td>\n",
       "    </tr>\n",
       "    <tr>\n",
       "      <th>26303</th>\n",
       "      <td>2021-12-31 23:00:00</td>\n",
       "      <td>2427.412133</td>\n",
       "      <td>201.012684</td>\n",
       "      <td>4725.866108</td>\n",
       "    </tr>\n",
       "  </tbody>\n",
       "</table>\n",
       "</div>"
      ],
      "text/plain": [
       "                       ds         yhat  yhat_lower   yhat_upper\n",
       "26299 2021-12-31 19:00:00  2563.448142  364.654846  4914.706670\n",
       "26300 2021-12-31 20:00:00  2576.594882  340.664265  4935.548038\n",
       "26301 2021-12-31 21:00:00  2561.483319  369.497415  4879.978529\n",
       "26302 2021-12-31 22:00:00  2509.228175  302.801843  4770.486752\n",
       "26303 2021-12-31 23:00:00  2427.412133  201.012684  4725.866108"
      ]
     },
     "execution_count": 318,
     "metadata": {},
     "output_type": "execute_result"
    }
   ],
   "source": [
    "forecast[['ds','yhat','yhat_lower','yhat_upper']].tail()"
   ]
  },
  {
   "cell_type": "code",
   "execution_count": 319,
   "id": "e244678f",
   "metadata": {},
   "outputs": [
    {
     "data": {
      "image/png": "[encoded data removed]",
      "text/plain": [
       "<Figure size 720x432 with 1 Axes>"
      ]
     },
     "execution_count": 319,
     "metadata": {},
     "output_type": "execute_result"
    },
    {
     "data": {
      "image/png": "[encoded data removed]",
      "text/plain": [
       "<Figure size 720x432 with 1 Axes>"
      ]
     },
     "metadata": {},
     "output_type": "display_data"
    }
   ],
   "source": [
    "m.plot(forecast)"
   ]
  },
  {
   "cell_type": "code",
   "execution_count": 320,
   "id": "f7b6c35c",
   "metadata": {},
   "outputs": [
    {
     "data": {
      "image/png": "[encoded data removed]",
      "text/plain": [
       "<Figure size 648x864 with 4 Axes>"
      ]
     },
     "execution_count": 320,
     "metadata": {},
     "output_type": "execute_result"
    },
    {
     "data": {
      "image/png": "[encoded data removed]",
      "text/plain": [
       "<Figure size 648x864 with 4 Axes>"
      ]
     },
     "metadata": {},
     "output_type": "display_data"
    }
   ],
   "source": [
    "m.plot_components(forecast)"
   ]
  },
  {
   "cell_type": "code",
   "execution_count": 322,
   "id": "fda351c7",
   "metadata": {},
   "outputs": [],
   "source": [
    "pd.DataFrame(forecast).to_csv('prophet_ff.csv')"
   ]
  },
  {
   "cell_type": "markdown",
   "id": "f99d91a3",
   "metadata": {},
   "source": [
    "### Multi-variate Time Series Analysis"
   ]
  },
  {
   "cell_type": "code",
   "execution_count": 323,
   "id": "facf4ea2",
   "metadata": {},
   "outputs": [
    {
     "data": {
      "text/html": [
       "<div>\n",
       "<style scoped>\n",
       "    .dataframe tbody tr th:only-of-type {\n",
       "        vertical-align: middle;\n",
       "    }\n",
       "\n",
       "    .dataframe tbody tr th {\n",
       "        vertical-align: top;\n",
       "    }\n",
       "\n",
       "    .dataframe thead th {\n",
       "        text-align: right;\n",
       "    }\n",
       "</style>\n",
       "<table border=\"1\" class=\"dataframe\">\n",
       "  <thead>\n",
       "    <tr style=\"text-align: right;\">\n",
       "      <th></th>\n",
       "      <th>datetime</th>\n",
       "      <th>energy</th>\n",
       "    </tr>\n",
       "  </thead>\n",
       "  <tbody>\n",
       "    <tr>\n",
       "      <th>0</th>\n",
       "      <td>2008-03-01 00:00:00</td>\n",
       "      <td>1259.985563</td>\n",
       "    </tr>\n",
       "    <tr>\n",
       "      <th>1</th>\n",
       "      <td>2008-03-01 01:00:00</td>\n",
       "      <td>1095.541500</td>\n",
       "    </tr>\n",
       "    <tr>\n",
       "      <th>2</th>\n",
       "      <td>2008-03-01 02:00:00</td>\n",
       "      <td>1056.247500</td>\n",
       "    </tr>\n",
       "    <tr>\n",
       "      <th>3</th>\n",
       "      <td>2008-03-01 03:00:00</td>\n",
       "      <td>1034.742000</td>\n",
       "    </tr>\n",
       "    <tr>\n",
       "      <th>4</th>\n",
       "      <td>2008-03-01 04:00:00</td>\n",
       "      <td>1026.334500</td>\n",
       "    </tr>\n",
       "  </tbody>\n",
       "</table>\n",
       "</div>"
      ],
      "text/plain": [
       "             datetime       energy\n",
       "0 2008-03-01 00:00:00  1259.985563\n",
       "1 2008-03-01 01:00:00  1095.541500\n",
       "2 2008-03-01 02:00:00  1056.247500\n",
       "3 2008-03-01 03:00:00  1034.742000\n",
       "4 2008-03-01 04:00:00  1026.334500"
      ]
     },
     "execution_count": 323,
     "metadata": {},
     "output_type": "execute_result"
    }
   ],
   "source": [
    "energy_train_imputed.columns=['datetime','energy']\n",
    "energy_train_imputed.head()"
   ]
  },
  {
   "cell_type": "code",
   "execution_count": 324,
   "id": "e661a6c5",
   "metadata": {},
   "outputs": [
    {
     "data": {
      "text/html": [
       "<div>\n",
       "<style scoped>\n",
       "    .dataframe tbody tr th:only-of-type {\n",
       "        vertical-align: middle;\n",
       "    }\n",
       "\n",
       "    .dataframe tbody tr th {\n",
       "        vertical-align: top;\n",
       "    }\n",
       "\n",
       "    .dataframe thead th {\n",
       "        text-align: right;\n",
       "    }\n",
       "</style>\n",
       "<table border=\"1\" class=\"dataframe\">\n",
       "  <thead>\n",
       "    <tr style=\"text-align: right;\">\n",
       "      <th></th>\n",
       "      <th>datetime</th>\n",
       "    </tr>\n",
       "  </thead>\n",
       "  <tbody>\n",
       "    <tr>\n",
       "      <th>0</th>\n",
       "      <td>2019-01-01 00:00:00</td>\n",
       "    </tr>\n",
       "    <tr>\n",
       "      <th>1</th>\n",
       "      <td>2019-01-01 01:00:00</td>\n",
       "    </tr>\n",
       "    <tr>\n",
       "      <th>2</th>\n",
       "      <td>2019-01-01 02:00:00</td>\n",
       "    </tr>\n",
       "    <tr>\n",
       "      <th>3</th>\n",
       "      <td>2019-01-01 03:00:00</td>\n",
       "    </tr>\n",
       "    <tr>\n",
       "      <th>4</th>\n",
       "      <td>2019-01-01 04:00:00</td>\n",
       "    </tr>\n",
       "  </tbody>\n",
       "</table>\n",
       "</div>"
      ],
      "text/plain": [
       "             datetime\n",
       "0 2019-01-01 00:00:00\n",
       "1 2019-01-01 01:00:00\n",
       "2 2019-01-01 02:00:00\n",
       "3 2019-01-01 03:00:00\n",
       "4 2019-01-01 04:00:00"
      ]
     },
     "execution_count": 324,
     "metadata": {},
     "output_type": "execute_result"
    }
   ],
   "source": [
    "energy_test.columns=['datetime']\n",
    "energy_test.head()"
   ]
  },
  {
   "cell_type": "code",
   "execution_count": 325,
   "id": "879a6d7e",
   "metadata": {},
   "outputs": [],
   "source": [
    "energy_test['energy']='test'"
   ]
  },
  {
   "cell_type": "code",
   "execution_count": 326,
   "id": "9d49b0cb",
   "metadata": {},
   "outputs": [],
   "source": [
    "combinedf=pd.concat([energy_train_imputed,energy_test],axis=0)"
   ]
  },
  {
   "cell_type": "code",
   "execution_count": 327,
   "id": "ed01a269",
   "metadata": {},
   "outputs": [
    {
     "data": {
      "text/html": [
       "<div>\n",
       "<style scoped>\n",
       "    .dataframe tbody tr th:only-of-type {\n",
       "        vertical-align: middle;\n",
       "    }\n",
       "\n",
       "    .dataframe tbody tr th {\n",
       "        vertical-align: top;\n",
       "    }\n",
       "\n",
       "    .dataframe thead th {\n",
       "        text-align: right;\n",
       "    }\n",
       "</style>\n",
       "<table border=\"1\" class=\"dataframe\">\n",
       "  <thead>\n",
       "    <tr style=\"text-align: right;\">\n",
       "      <th></th>\n",
       "      <th>datetime</th>\n",
       "      <th>energy</th>\n",
       "    </tr>\n",
       "  </thead>\n",
       "  <tbody>\n",
       "    <tr>\n",
       "      <th>0</th>\n",
       "      <td>2008-03-01 00:00:00</td>\n",
       "      <td>1259.985563</td>\n",
       "    </tr>\n",
       "    <tr>\n",
       "      <th>1</th>\n",
       "      <td>2008-03-01 01:00:00</td>\n",
       "      <td>1095.5415</td>\n",
       "    </tr>\n",
       "    <tr>\n",
       "      <th>2</th>\n",
       "      <td>2008-03-01 02:00:00</td>\n",
       "      <td>1056.2475</td>\n",
       "    </tr>\n",
       "    <tr>\n",
       "      <th>3</th>\n",
       "      <td>2008-03-01 03:00:00</td>\n",
       "      <td>1034.742</td>\n",
       "    </tr>\n",
       "    <tr>\n",
       "      <th>4</th>\n",
       "      <td>2008-03-01 04:00:00</td>\n",
       "      <td>1026.3345</td>\n",
       "    </tr>\n",
       "  </tbody>\n",
       "</table>\n",
       "</div>"
      ],
      "text/plain": [
       "             datetime       energy\n",
       "0 2008-03-01 00:00:00  1259.985563\n",
       "1 2008-03-01 01:00:00    1095.5415\n",
       "2 2008-03-01 02:00:00    1056.2475\n",
       "3 2008-03-01 03:00:00     1034.742\n",
       "4 2008-03-01 04:00:00    1026.3345"
      ]
     },
     "execution_count": 327,
     "metadata": {},
     "output_type": "execute_result"
    }
   ],
   "source": [
    "combinedf.head()"
   ]
  },
  {
   "cell_type": "code",
   "execution_count": 328,
   "id": "e67b4b56",
   "metadata": {},
   "outputs": [
    {
     "data": {
      "text/html": [
       "<div>\n",
       "<style scoped>\n",
       "    .dataframe tbody tr th:only-of-type {\n",
       "        vertical-align: middle;\n",
       "    }\n",
       "\n",
       "    .dataframe tbody tr th {\n",
       "        vertical-align: top;\n",
       "    }\n",
       "\n",
       "    .dataframe thead th {\n",
       "        text-align: right;\n",
       "    }\n",
       "</style>\n",
       "<table border=\"1\" class=\"dataframe\">\n",
       "  <thead>\n",
       "    <tr style=\"text-align: right;\">\n",
       "      <th></th>\n",
       "      <th>datetime</th>\n",
       "      <th>energy</th>\n",
       "    </tr>\n",
       "  </thead>\n",
       "  <tbody>\n",
       "    <tr>\n",
       "      <th>26299</th>\n",
       "      <td>2021-12-31 19:00:00</td>\n",
       "      <td>test</td>\n",
       "    </tr>\n",
       "    <tr>\n",
       "      <th>26300</th>\n",
       "      <td>2021-12-31 20:00:00</td>\n",
       "      <td>test</td>\n",
       "    </tr>\n",
       "    <tr>\n",
       "      <th>26301</th>\n",
       "      <td>2021-12-31 21:00:00</td>\n",
       "      <td>test</td>\n",
       "    </tr>\n",
       "    <tr>\n",
       "      <th>26302</th>\n",
       "      <td>2021-12-31 22:00:00</td>\n",
       "      <td>test</td>\n",
       "    </tr>\n",
       "    <tr>\n",
       "      <th>26303</th>\n",
       "      <td>2021-12-31 23:00:00</td>\n",
       "      <td>test</td>\n",
       "    </tr>\n",
       "  </tbody>\n",
       "</table>\n",
       "</div>"
      ],
      "text/plain": [
       "                 datetime energy\n",
       "26299 2021-12-31 19:00:00   test\n",
       "26300 2021-12-31 20:00:00   test\n",
       "26301 2021-12-31 21:00:00   test\n",
       "26302 2021-12-31 22:00:00   test\n",
       "26303 2021-12-31 23:00:00   test"
      ]
     },
     "execution_count": 328,
     "metadata": {},
     "output_type": "execute_result"
    }
   ],
   "source": [
    "combinedf.tail()"
   ]
  },
  {
   "cell_type": "code",
   "execution_count": 329,
   "id": "aeb8e3a0",
   "metadata": {},
   "outputs": [],
   "source": [
    "#extract variables from datetime"
   ]
  },
  {
   "cell_type": "code",
   "execution_count": 330,
   "id": "3ffbe1ab",
   "metadata": {},
   "outputs": [],
   "source": [
    "combinedf['day']=combinedf.datetime.dt.day"
   ]
  },
  {
   "cell_type": "code",
   "execution_count": 331,
   "id": "ac9ab984",
   "metadata": {},
   "outputs": [],
   "source": [
    "combinedf['dayofweek']=combinedf.datetime.dt.dayofweek"
   ]
  },
  {
   "cell_type": "code",
   "execution_count": 332,
   "id": "0d4c3ad2",
   "metadata": {},
   "outputs": [],
   "source": [
    "combinedf['dayofyear']=combinedf.datetime.dt.dayofyear"
   ]
  },
  {
   "cell_type": "code",
   "execution_count": 333,
   "id": "2c3653a5",
   "metadata": {},
   "outputs": [],
   "source": [
    "combinedf['hour']=combinedf.datetime.dt.hour"
   ]
  },
  {
   "cell_type": "code",
   "execution_count": 334,
   "id": "f5bf3d1b",
   "metadata": {},
   "outputs": [],
   "source": [
    "combinedf['month']=combinedf.datetime.dt.month"
   ]
  },
  {
   "cell_type": "code",
   "execution_count": 335,
   "id": "9d3346bb",
   "metadata": {},
   "outputs": [],
   "source": [
    "combinedf['quarter']=combinedf.datetime.dt.quarter"
   ]
  },
  {
   "cell_type": "code",
   "execution_count": 336,
   "id": "6af66503",
   "metadata": {},
   "outputs": [
    {
     "name": "stderr",
     "output_type": "stream",
     "text": [
      "C:\\Users\\vikram\\AppData\\Local\\Temp\\ipykernel_18416\\3478502758.py:1: FutureWarning: Series.dt.weekofyear and Series.dt.week have been deprecated. Please use Series.dt.isocalendar().week instead.\n",
      "  combinedf['week']=combinedf.datetime.dt.week\n"
     ]
    }
   ],
   "source": [
    "combinedf['week']=combinedf.datetime.dt.week"
   ]
  },
  {
   "cell_type": "code",
   "execution_count": 337,
   "id": "1e393a43",
   "metadata": {},
   "outputs": [],
   "source": [
    "combinedf['weekday']=combinedf.datetime.dt.weekday"
   ]
  },
  {
   "cell_type": "code",
   "execution_count": 338,
   "id": "57771b30",
   "metadata": {},
   "outputs": [
    {
     "name": "stderr",
     "output_type": "stream",
     "text": [
      "C:\\Users\\vikram\\AppData\\Local\\Temp\\ipykernel_18416\\3611308144.py:1: FutureWarning: Series.dt.weekofyear and Series.dt.week have been deprecated. Please use Series.dt.isocalendar().week instead.\n",
      "  combinedf['weekofyear']=combinedf.datetime.dt.weekofyear\n"
     ]
    }
   ],
   "source": [
    "combinedf['weekofyear']=combinedf.datetime.dt.weekofyear"
   ]
  },
  {
   "cell_type": "code",
   "execution_count": 339,
   "id": "fb6c6cf4",
   "metadata": {},
   "outputs": [],
   "source": [
    "combinedf['year']=combinedf.datetime.dt.year"
   ]
  },
  {
   "cell_type": "code",
   "execution_count": 340,
   "id": "53623fda",
   "metadata": {},
   "outputs": [
    {
     "data": {
      "text/html": [
       "<div>\n",
       "<style scoped>\n",
       "    .dataframe tbody tr th:only-of-type {\n",
       "        vertical-align: middle;\n",
       "    }\n",
       "\n",
       "    .dataframe tbody tr th {\n",
       "        vertical-align: top;\n",
       "    }\n",
       "\n",
       "    .dataframe thead th {\n",
       "        text-align: right;\n",
       "    }\n",
       "</style>\n",
       "<table border=\"1\" class=\"dataframe\">\n",
       "  <thead>\n",
       "    <tr style=\"text-align: right;\">\n",
       "      <th></th>\n",
       "      <th>datetime</th>\n",
       "      <th>energy</th>\n",
       "      <th>day</th>\n",
       "      <th>dayofweek</th>\n",
       "      <th>dayofyear</th>\n",
       "      <th>hour</th>\n",
       "      <th>month</th>\n",
       "      <th>quarter</th>\n",
       "      <th>week</th>\n",
       "      <th>weekday</th>\n",
       "      <th>weekofyear</th>\n",
       "      <th>year</th>\n",
       "    </tr>\n",
       "  </thead>\n",
       "  <tbody>\n",
       "    <tr>\n",
       "      <th>0</th>\n",
       "      <td>2008-03-01 00:00:00</td>\n",
       "      <td>1259.985563</td>\n",
       "      <td>1</td>\n",
       "      <td>5</td>\n",
       "      <td>61</td>\n",
       "      <td>0</td>\n",
       "      <td>3</td>\n",
       "      <td>1</td>\n",
       "      <td>9</td>\n",
       "      <td>5</td>\n",
       "      <td>9</td>\n",
       "      <td>2008</td>\n",
       "    </tr>\n",
       "    <tr>\n",
       "      <th>1</th>\n",
       "      <td>2008-03-01 01:00:00</td>\n",
       "      <td>1095.5415</td>\n",
       "      <td>1</td>\n",
       "      <td>5</td>\n",
       "      <td>61</td>\n",
       "      <td>1</td>\n",
       "      <td>3</td>\n",
       "      <td>1</td>\n",
       "      <td>9</td>\n",
       "      <td>5</td>\n",
       "      <td>9</td>\n",
       "      <td>2008</td>\n",
       "    </tr>\n",
       "    <tr>\n",
       "      <th>2</th>\n",
       "      <td>2008-03-01 02:00:00</td>\n",
       "      <td>1056.2475</td>\n",
       "      <td>1</td>\n",
       "      <td>5</td>\n",
       "      <td>61</td>\n",
       "      <td>2</td>\n",
       "      <td>3</td>\n",
       "      <td>1</td>\n",
       "      <td>9</td>\n",
       "      <td>5</td>\n",
       "      <td>9</td>\n",
       "      <td>2008</td>\n",
       "    </tr>\n",
       "    <tr>\n",
       "      <th>3</th>\n",
       "      <td>2008-03-01 03:00:00</td>\n",
       "      <td>1034.742</td>\n",
       "      <td>1</td>\n",
       "      <td>5</td>\n",
       "      <td>61</td>\n",
       "      <td>3</td>\n",
       "      <td>3</td>\n",
       "      <td>1</td>\n",
       "      <td>9</td>\n",
       "      <td>5</td>\n",
       "      <td>9</td>\n",
       "      <td>2008</td>\n",
       "    </tr>\n",
       "    <tr>\n",
       "      <th>4</th>\n",
       "      <td>2008-03-01 04:00:00</td>\n",
       "      <td>1026.3345</td>\n",
       "      <td>1</td>\n",
       "      <td>5</td>\n",
       "      <td>61</td>\n",
       "      <td>4</td>\n",
       "      <td>3</td>\n",
       "      <td>1</td>\n",
       "      <td>9</td>\n",
       "      <td>5</td>\n",
       "      <td>9</td>\n",
       "      <td>2008</td>\n",
       "    </tr>\n",
       "  </tbody>\n",
       "</table>\n",
       "</div>"
      ],
      "text/plain": [
       "             datetime       energy  day  dayofweek  dayofyear  hour  month  \\\n",
       "0 2008-03-01 00:00:00  1259.985563    1          5         61     0      3   \n",
       "1 2008-03-01 01:00:00    1095.5415    1          5         61     1      3   \n",
       "2 2008-03-01 02:00:00    1056.2475    1          5         61     2      3   \n",
       "3 2008-03-01 03:00:00     1034.742    1          5         61     3      3   \n",
       "4 2008-03-01 04:00:00    1026.3345    1          5         61     4      3   \n",
       "\n",
       "   quarter  week  weekday  weekofyear  year  \n",
       "0        1     9        5           9  2008  \n",
       "1        1     9        5           9  2008  \n",
       "2        1     9        5           9  2008  \n",
       "3        1     9        5           9  2008  \n",
       "4        1     9        5           9  2008  "
      ]
     },
     "execution_count": 340,
     "metadata": {},
     "output_type": "execute_result"
    }
   ],
   "source": [
    "combinedf.head()"
   ]
  },
  {
   "cell_type": "code",
   "execution_count": 341,
   "id": "0a8d32e0",
   "metadata": {},
   "outputs": [
    {
     "data": {
      "text/plain": [
       "datetime      datetime64[ns]\n",
       "energy                object\n",
       "day                    int64\n",
       "dayofweek              int64\n",
       "dayofyear              int64\n",
       "hour                   int64\n",
       "month                  int64\n",
       "quarter                int64\n",
       "week                   int64\n",
       "weekday                int64\n",
       "weekofyear             int64\n",
       "year                   int64\n",
       "dtype: object"
      ]
     },
     "execution_count": 341,
     "metadata": {},
     "output_type": "execute_result"
    }
   ],
   "source": [
    "combinedf.dtypes"
   ]
  },
  {
   "cell_type": "code",
   "execution_count": 349,
   "id": "830a42e9",
   "metadata": {},
   "outputs": [],
   "source": [
    "energy_train_mv=combinedf[combinedf.energy!='test']\n",
    "energy_test_mv=combinedf[combinedf.energy=='test']"
   ]
  },
  {
   "cell_type": "code",
   "execution_count": 350,
   "id": "4dc5f78c",
   "metadata": {},
   "outputs": [
    {
     "data": {
      "text/html": [
       "<div>\n",
       "<style scoped>\n",
       "    .dataframe tbody tr th:only-of-type {\n",
       "        vertical-align: middle;\n",
       "    }\n",
       "\n",
       "    .dataframe tbody tr th {\n",
       "        vertical-align: top;\n",
       "    }\n",
       "\n",
       "    .dataframe thead th {\n",
       "        text-align: right;\n",
       "    }\n",
       "</style>\n",
       "<table border=\"1\" class=\"dataframe\">\n",
       "  <thead>\n",
       "    <tr style=\"text-align: right;\">\n",
       "      <th></th>\n",
       "      <th>datetime</th>\n",
       "      <th>energy</th>\n",
       "      <th>day</th>\n",
       "      <th>dayofweek</th>\n",
       "      <th>dayofyear</th>\n",
       "      <th>hour</th>\n",
       "      <th>month</th>\n",
       "      <th>quarter</th>\n",
       "      <th>week</th>\n",
       "      <th>weekday</th>\n",
       "      <th>weekofyear</th>\n",
       "      <th>year</th>\n",
       "    </tr>\n",
       "  </thead>\n",
       "  <tbody>\n",
       "    <tr>\n",
       "      <th>0</th>\n",
       "      <td>2008-03-01 00:00:00</td>\n",
       "      <td>1259.985563</td>\n",
       "      <td>1</td>\n",
       "      <td>5</td>\n",
       "      <td>61</td>\n",
       "      <td>0</td>\n",
       "      <td>3</td>\n",
       "      <td>1</td>\n",
       "      <td>9</td>\n",
       "      <td>5</td>\n",
       "      <td>9</td>\n",
       "      <td>2008</td>\n",
       "    </tr>\n",
       "    <tr>\n",
       "      <th>1</th>\n",
       "      <td>2008-03-01 01:00:00</td>\n",
       "      <td>1095.5415</td>\n",
       "      <td>1</td>\n",
       "      <td>5</td>\n",
       "      <td>61</td>\n",
       "      <td>1</td>\n",
       "      <td>3</td>\n",
       "      <td>1</td>\n",
       "      <td>9</td>\n",
       "      <td>5</td>\n",
       "      <td>9</td>\n",
       "      <td>2008</td>\n",
       "    </tr>\n",
       "    <tr>\n",
       "      <th>2</th>\n",
       "      <td>2008-03-01 02:00:00</td>\n",
       "      <td>1056.2475</td>\n",
       "      <td>1</td>\n",
       "      <td>5</td>\n",
       "      <td>61</td>\n",
       "      <td>2</td>\n",
       "      <td>3</td>\n",
       "      <td>1</td>\n",
       "      <td>9</td>\n",
       "      <td>5</td>\n",
       "      <td>9</td>\n",
       "      <td>2008</td>\n",
       "    </tr>\n",
       "    <tr>\n",
       "      <th>3</th>\n",
       "      <td>2008-03-01 03:00:00</td>\n",
       "      <td>1034.742</td>\n",
       "      <td>1</td>\n",
       "      <td>5</td>\n",
       "      <td>61</td>\n",
       "      <td>3</td>\n",
       "      <td>3</td>\n",
       "      <td>1</td>\n",
       "      <td>9</td>\n",
       "      <td>5</td>\n",
       "      <td>9</td>\n",
       "      <td>2008</td>\n",
       "    </tr>\n",
       "    <tr>\n",
       "      <th>4</th>\n",
       "      <td>2008-03-01 04:00:00</td>\n",
       "      <td>1026.3345</td>\n",
       "      <td>1</td>\n",
       "      <td>5</td>\n",
       "      <td>61</td>\n",
       "      <td>4</td>\n",
       "      <td>3</td>\n",
       "      <td>1</td>\n",
       "      <td>9</td>\n",
       "      <td>5</td>\n",
       "      <td>9</td>\n",
       "      <td>2008</td>\n",
       "    </tr>\n",
       "  </tbody>\n",
       "</table>\n",
       "</div>"
      ],
      "text/plain": [
       "             datetime       energy  day  dayofweek  dayofyear  hour  month  \\\n",
       "0 2008-03-01 00:00:00  1259.985563    1          5         61     0      3   \n",
       "1 2008-03-01 01:00:00    1095.5415    1          5         61     1      3   \n",
       "2 2008-03-01 02:00:00    1056.2475    1          5         61     2      3   \n",
       "3 2008-03-01 03:00:00     1034.742    1          5         61     3      3   \n",
       "4 2008-03-01 04:00:00    1026.3345    1          5         61     4      3   \n",
       "\n",
       "   quarter  week  weekday  weekofyear  year  \n",
       "0        1     9        5           9  2008  \n",
       "1        1     9        5           9  2008  \n",
       "2        1     9        5           9  2008  \n",
       "3        1     9        5           9  2008  \n",
       "4        1     9        5           9  2008  "
      ]
     },
     "execution_count": 350,
     "metadata": {},
     "output_type": "execute_result"
    }
   ],
   "source": [
    "energy_train_mv.head()"
   ]
  },
  {
   "cell_type": "code",
   "execution_count": 351,
   "id": "08b7dd7a",
   "metadata": {},
   "outputs": [
    {
     "data": {
      "text/html": [
       "<div>\n",
       "<style scoped>\n",
       "    .dataframe tbody tr th:only-of-type {\n",
       "        vertical-align: middle;\n",
       "    }\n",
       "\n",
       "    .dataframe tbody tr th {\n",
       "        vertical-align: top;\n",
       "    }\n",
       "\n",
       "    .dataframe thead th {\n",
       "        text-align: right;\n",
       "    }\n",
       "</style>\n",
       "<table border=\"1\" class=\"dataframe\">\n",
       "  <thead>\n",
       "    <tr style=\"text-align: right;\">\n",
       "      <th></th>\n",
       "      <th>datetime</th>\n",
       "      <th>energy</th>\n",
       "      <th>day</th>\n",
       "      <th>dayofweek</th>\n",
       "      <th>dayofyear</th>\n",
       "      <th>hour</th>\n",
       "      <th>month</th>\n",
       "      <th>quarter</th>\n",
       "      <th>week</th>\n",
       "      <th>weekday</th>\n",
       "      <th>weekofyear</th>\n",
       "      <th>year</th>\n",
       "    </tr>\n",
       "  </thead>\n",
       "  <tbody>\n",
       "    <tr>\n",
       "      <th>94987</th>\n",
       "      <td>2018-12-31 19:00:00</td>\n",
       "      <td>2528.4468</td>\n",
       "      <td>31</td>\n",
       "      <td>0</td>\n",
       "      <td>365</td>\n",
       "      <td>19</td>\n",
       "      <td>12</td>\n",
       "      <td>4</td>\n",
       "      <td>1</td>\n",
       "      <td>0</td>\n",
       "      <td>1</td>\n",
       "      <td>2018</td>\n",
       "    </tr>\n",
       "    <tr>\n",
       "      <th>94988</th>\n",
       "      <td>2018-12-31 20:00:00</td>\n",
       "      <td>2461.8836</td>\n",
       "      <td>31</td>\n",
       "      <td>0</td>\n",
       "      <td>365</td>\n",
       "      <td>20</td>\n",
       "      <td>12</td>\n",
       "      <td>4</td>\n",
       "      <td>1</td>\n",
       "      <td>0</td>\n",
       "      <td>1</td>\n",
       "      <td>2018</td>\n",
       "    </tr>\n",
       "    <tr>\n",
       "      <th>94989</th>\n",
       "      <td>2018-12-31 21:00:00</td>\n",
       "      <td>2365.9944</td>\n",
       "      <td>31</td>\n",
       "      <td>0</td>\n",
       "      <td>365</td>\n",
       "      <td>21</td>\n",
       "      <td>12</td>\n",
       "      <td>4</td>\n",
       "      <td>1</td>\n",
       "      <td>0</td>\n",
       "      <td>1</td>\n",
       "      <td>2018</td>\n",
       "    </tr>\n",
       "    <tr>\n",
       "      <th>94990</th>\n",
       "      <td>2018-12-31 22:00:00</td>\n",
       "      <td>2342.9428</td>\n",
       "      <td>31</td>\n",
       "      <td>0</td>\n",
       "      <td>365</td>\n",
       "      <td>22</td>\n",
       "      <td>12</td>\n",
       "      <td>4</td>\n",
       "      <td>1</td>\n",
       "      <td>0</td>\n",
       "      <td>1</td>\n",
       "      <td>2018</td>\n",
       "    </tr>\n",
       "    <tr>\n",
       "      <th>94991</th>\n",
       "      <td>2018-12-31 23:00:00</td>\n",
       "      <td>2180.2176</td>\n",
       "      <td>31</td>\n",
       "      <td>0</td>\n",
       "      <td>365</td>\n",
       "      <td>23</td>\n",
       "      <td>12</td>\n",
       "      <td>4</td>\n",
       "      <td>1</td>\n",
       "      <td>0</td>\n",
       "      <td>1</td>\n",
       "      <td>2018</td>\n",
       "    </tr>\n",
       "  </tbody>\n",
       "</table>\n",
       "</div>"
      ],
      "text/plain": [
       "                 datetime     energy  day  dayofweek  dayofyear  hour  month  \\\n",
       "94987 2018-12-31 19:00:00  2528.4468   31          0        365    19     12   \n",
       "94988 2018-12-31 20:00:00  2461.8836   31          0        365    20     12   \n",
       "94989 2018-12-31 21:00:00  2365.9944   31          0        365    21     12   \n",
       "94990 2018-12-31 22:00:00  2342.9428   31          0        365    22     12   \n",
       "94991 2018-12-31 23:00:00  2180.2176   31          0        365    23     12   \n",
       "\n",
       "       quarter  week  weekday  weekofyear  year  \n",
       "94987        4     1        0           1  2018  \n",
       "94988        4     1        0           1  2018  \n",
       "94989        4     1        0           1  2018  \n",
       "94990        4     1        0           1  2018  \n",
       "94991        4     1        0           1  2018  "
      ]
     },
     "execution_count": 351,
     "metadata": {},
     "output_type": "execute_result"
    }
   ],
   "source": [
    "energy_train_mv.tail()"
   ]
  },
  {
   "cell_type": "code",
   "execution_count": 352,
   "id": "25099517",
   "metadata": {},
   "outputs": [
    {
     "data": {
      "text/html": [
       "<div>\n",
       "<style scoped>\n",
       "    .dataframe tbody tr th:only-of-type {\n",
       "        vertical-align: middle;\n",
       "    }\n",
       "\n",
       "    .dataframe tbody tr th {\n",
       "        vertical-align: top;\n",
       "    }\n",
       "\n",
       "    .dataframe thead th {\n",
       "        text-align: right;\n",
       "    }\n",
       "</style>\n",
       "<table border=\"1\" class=\"dataframe\">\n",
       "  <thead>\n",
       "    <tr style=\"text-align: right;\">\n",
       "      <th></th>\n",
       "      <th>datetime</th>\n",
       "      <th>energy</th>\n",
       "      <th>day</th>\n",
       "      <th>dayofweek</th>\n",
       "      <th>dayofyear</th>\n",
       "      <th>hour</th>\n",
       "      <th>month</th>\n",
       "      <th>quarter</th>\n",
       "      <th>week</th>\n",
       "      <th>weekday</th>\n",
       "      <th>weekofyear</th>\n",
       "      <th>year</th>\n",
       "    </tr>\n",
       "  </thead>\n",
       "  <tbody>\n",
       "    <tr>\n",
       "      <th>0</th>\n",
       "      <td>2019-01-01 00:00:00</td>\n",
       "      <td>test</td>\n",
       "      <td>1</td>\n",
       "      <td>1</td>\n",
       "      <td>1</td>\n",
       "      <td>0</td>\n",
       "      <td>1</td>\n",
       "      <td>1</td>\n",
       "      <td>1</td>\n",
       "      <td>1</td>\n",
       "      <td>1</td>\n",
       "      <td>2019</td>\n",
       "    </tr>\n",
       "    <tr>\n",
       "      <th>1</th>\n",
       "      <td>2019-01-01 01:00:00</td>\n",
       "      <td>test</td>\n",
       "      <td>1</td>\n",
       "      <td>1</td>\n",
       "      <td>1</td>\n",
       "      <td>1</td>\n",
       "      <td>1</td>\n",
       "      <td>1</td>\n",
       "      <td>1</td>\n",
       "      <td>1</td>\n",
       "      <td>1</td>\n",
       "      <td>2019</td>\n",
       "    </tr>\n",
       "    <tr>\n",
       "      <th>2</th>\n",
       "      <td>2019-01-01 02:00:00</td>\n",
       "      <td>test</td>\n",
       "      <td>1</td>\n",
       "      <td>1</td>\n",
       "      <td>1</td>\n",
       "      <td>2</td>\n",
       "      <td>1</td>\n",
       "      <td>1</td>\n",
       "      <td>1</td>\n",
       "      <td>1</td>\n",
       "      <td>1</td>\n",
       "      <td>2019</td>\n",
       "    </tr>\n",
       "    <tr>\n",
       "      <th>3</th>\n",
       "      <td>2019-01-01 03:00:00</td>\n",
       "      <td>test</td>\n",
       "      <td>1</td>\n",
       "      <td>1</td>\n",
       "      <td>1</td>\n",
       "      <td>3</td>\n",
       "      <td>1</td>\n",
       "      <td>1</td>\n",
       "      <td>1</td>\n",
       "      <td>1</td>\n",
       "      <td>1</td>\n",
       "      <td>2019</td>\n",
       "    </tr>\n",
       "    <tr>\n",
       "      <th>4</th>\n",
       "      <td>2019-01-01 04:00:00</td>\n",
       "      <td>test</td>\n",
       "      <td>1</td>\n",
       "      <td>1</td>\n",
       "      <td>1</td>\n",
       "      <td>4</td>\n",
       "      <td>1</td>\n",
       "      <td>1</td>\n",
       "      <td>1</td>\n",
       "      <td>1</td>\n",
       "      <td>1</td>\n",
       "      <td>2019</td>\n",
       "    </tr>\n",
       "  </tbody>\n",
       "</table>\n",
       "</div>"
      ],
      "text/plain": [
       "             datetime energy  day  dayofweek  dayofyear  hour  month  quarter  \\\n",
       "0 2019-01-01 00:00:00   test    1          1          1     0      1        1   \n",
       "1 2019-01-01 01:00:00   test    1          1          1     1      1        1   \n",
       "2 2019-01-01 02:00:00   test    1          1          1     2      1        1   \n",
       "3 2019-01-01 03:00:00   test    1          1          1     3      1        1   \n",
       "4 2019-01-01 04:00:00   test    1          1          1     4      1        1   \n",
       "\n",
       "   week  weekday  weekofyear  year  \n",
       "0     1        1           1  2019  \n",
       "1     1        1           1  2019  \n",
       "2     1        1           1  2019  \n",
       "3     1        1           1  2019  \n",
       "4     1        1           1  2019  "
      ]
     },
     "execution_count": 352,
     "metadata": {},
     "output_type": "execute_result"
    }
   ],
   "source": [
    "energy_test_mv.head()"
   ]
  },
  {
   "cell_type": "code",
   "execution_count": 353,
   "id": "3a4eec49",
   "metadata": {},
   "outputs": [
    {
     "data": {
      "text/html": [
       "<div>\n",
       "<style scoped>\n",
       "    .dataframe tbody tr th:only-of-type {\n",
       "        vertical-align: middle;\n",
       "    }\n",
       "\n",
       "    .dataframe tbody tr th {\n",
       "        vertical-align: top;\n",
       "    }\n",
       "\n",
       "    .dataframe thead th {\n",
       "        text-align: right;\n",
       "    }\n",
       "</style>\n",
       "<table border=\"1\" class=\"dataframe\">\n",
       "  <thead>\n",
       "    <tr style=\"text-align: right;\">\n",
       "      <th></th>\n",
       "      <th>datetime</th>\n",
       "      <th>energy</th>\n",
       "      <th>day</th>\n",
       "      <th>dayofweek</th>\n",
       "      <th>dayofyear</th>\n",
       "      <th>hour</th>\n",
       "      <th>month</th>\n",
       "      <th>quarter</th>\n",
       "      <th>week</th>\n",
       "      <th>weekday</th>\n",
       "      <th>weekofyear</th>\n",
       "      <th>year</th>\n",
       "    </tr>\n",
       "  </thead>\n",
       "  <tbody>\n",
       "    <tr>\n",
       "      <th>26299</th>\n",
       "      <td>2021-12-31 19:00:00</td>\n",
       "      <td>test</td>\n",
       "      <td>31</td>\n",
       "      <td>4</td>\n",
       "      <td>365</td>\n",
       "      <td>19</td>\n",
       "      <td>12</td>\n",
       "      <td>4</td>\n",
       "      <td>52</td>\n",
       "      <td>4</td>\n",
       "      <td>52</td>\n",
       "      <td>2021</td>\n",
       "    </tr>\n",
       "    <tr>\n",
       "      <th>26300</th>\n",
       "      <td>2021-12-31 20:00:00</td>\n",
       "      <td>test</td>\n",
       "      <td>31</td>\n",
       "      <td>4</td>\n",
       "      <td>365</td>\n",
       "      <td>20</td>\n",
       "      <td>12</td>\n",
       "      <td>4</td>\n",
       "      <td>52</td>\n",
       "      <td>4</td>\n",
       "      <td>52</td>\n",
       "      <td>2021</td>\n",
       "    </tr>\n",
       "    <tr>\n",
       "      <th>26301</th>\n",
       "      <td>2021-12-31 21:00:00</td>\n",
       "      <td>test</td>\n",
       "      <td>31</td>\n",
       "      <td>4</td>\n",
       "      <td>365</td>\n",
       "      <td>21</td>\n",
       "      <td>12</td>\n",
       "      <td>4</td>\n",
       "      <td>52</td>\n",
       "      <td>4</td>\n",
       "      <td>52</td>\n",
       "      <td>2021</td>\n",
       "    </tr>\n",
       "    <tr>\n",
       "      <th>26302</th>\n",
       "      <td>2021-12-31 22:00:00</td>\n",
       "      <td>test</td>\n",
       "      <td>31</td>\n",
       "      <td>4</td>\n",
       "      <td>365</td>\n",
       "      <td>22</td>\n",
       "      <td>12</td>\n",
       "      <td>4</td>\n",
       "      <td>52</td>\n",
       "      <td>4</td>\n",
       "      <td>52</td>\n",
       "      <td>2021</td>\n",
       "    </tr>\n",
       "    <tr>\n",
       "      <th>26303</th>\n",
       "      <td>2021-12-31 23:00:00</td>\n",
       "      <td>test</td>\n",
       "      <td>31</td>\n",
       "      <td>4</td>\n",
       "      <td>365</td>\n",
       "      <td>23</td>\n",
       "      <td>12</td>\n",
       "      <td>4</td>\n",
       "      <td>52</td>\n",
       "      <td>4</td>\n",
       "      <td>52</td>\n",
       "      <td>2021</td>\n",
       "    </tr>\n",
       "  </tbody>\n",
       "</table>\n",
       "</div>"
      ],
      "text/plain": [
       "                 datetime energy  day  dayofweek  dayofyear  hour  month  \\\n",
       "26299 2021-12-31 19:00:00   test   31          4        365    19     12   \n",
       "26300 2021-12-31 20:00:00   test   31          4        365    20     12   \n",
       "26301 2021-12-31 21:00:00   test   31          4        365    21     12   \n",
       "26302 2021-12-31 22:00:00   test   31          4        365    22     12   \n",
       "26303 2021-12-31 23:00:00   test   31          4        365    23     12   \n",
       "\n",
       "       quarter  week  weekday  weekofyear  year  \n",
       "26299        4    52        4          52  2021  \n",
       "26300        4    52        4          52  2021  \n",
       "26301        4    52        4          52  2021  \n",
       "26302        4    52        4          52  2021  \n",
       "26303        4    52        4          52  2021  "
      ]
     },
     "execution_count": 353,
     "metadata": {},
     "output_type": "execute_result"
    }
   ],
   "source": [
    "energy_test_mv.tail()"
   ]
  },
  {
   "cell_type": "code",
   "execution_count": 354,
   "id": "fd2c8b69",
   "metadata": {},
   "outputs": [],
   "source": [
    "energy_test_mv=energy_test_mv.drop(['energy','datetime'],axis=1)"
   ]
  },
  {
   "cell_type": "code",
   "execution_count": 355,
   "id": "4cf4f8f0",
   "metadata": {},
   "outputs": [
    {
     "data": {
      "text/html": [
       "<div>\n",
       "<style scoped>\n",
       "    .dataframe tbody tr th:only-of-type {\n",
       "        vertical-align: middle;\n",
       "    }\n",
       "\n",
       "    .dataframe tbody tr th {\n",
       "        vertical-align: top;\n",
       "    }\n",
       "\n",
       "    .dataframe thead th {\n",
       "        text-align: right;\n",
       "    }\n",
       "</style>\n",
       "<table border=\"1\" class=\"dataframe\">\n",
       "  <thead>\n",
       "    <tr style=\"text-align: right;\">\n",
       "      <th></th>\n",
       "      <th>day</th>\n",
       "      <th>dayofweek</th>\n",
       "      <th>dayofyear</th>\n",
       "      <th>hour</th>\n",
       "      <th>month</th>\n",
       "      <th>quarter</th>\n",
       "      <th>week</th>\n",
       "      <th>weekday</th>\n",
       "      <th>weekofyear</th>\n",
       "      <th>year</th>\n",
       "    </tr>\n",
       "  </thead>\n",
       "  <tbody>\n",
       "    <tr>\n",
       "      <th>0</th>\n",
       "      <td>1</td>\n",
       "      <td>1</td>\n",
       "      <td>1</td>\n",
       "      <td>0</td>\n",
       "      <td>1</td>\n",
       "      <td>1</td>\n",
       "      <td>1</td>\n",
       "      <td>1</td>\n",
       "      <td>1</td>\n",
       "      <td>2019</td>\n",
       "    </tr>\n",
       "    <tr>\n",
       "      <th>1</th>\n",
       "      <td>1</td>\n",
       "      <td>1</td>\n",
       "      <td>1</td>\n",
       "      <td>1</td>\n",
       "      <td>1</td>\n",
       "      <td>1</td>\n",
       "      <td>1</td>\n",
       "      <td>1</td>\n",
       "      <td>1</td>\n",
       "      <td>2019</td>\n",
       "    </tr>\n",
       "    <tr>\n",
       "      <th>2</th>\n",
       "      <td>1</td>\n",
       "      <td>1</td>\n",
       "      <td>1</td>\n",
       "      <td>2</td>\n",
       "      <td>1</td>\n",
       "      <td>1</td>\n",
       "      <td>1</td>\n",
       "      <td>1</td>\n",
       "      <td>1</td>\n",
       "      <td>2019</td>\n",
       "    </tr>\n",
       "    <tr>\n",
       "      <th>3</th>\n",
       "      <td>1</td>\n",
       "      <td>1</td>\n",
       "      <td>1</td>\n",
       "      <td>3</td>\n",
       "      <td>1</td>\n",
       "      <td>1</td>\n",
       "      <td>1</td>\n",
       "      <td>1</td>\n",
       "      <td>1</td>\n",
       "      <td>2019</td>\n",
       "    </tr>\n",
       "    <tr>\n",
       "      <th>4</th>\n",
       "      <td>1</td>\n",
       "      <td>1</td>\n",
       "      <td>1</td>\n",
       "      <td>4</td>\n",
       "      <td>1</td>\n",
       "      <td>1</td>\n",
       "      <td>1</td>\n",
       "      <td>1</td>\n",
       "      <td>1</td>\n",
       "      <td>2019</td>\n",
       "    </tr>\n",
       "  </tbody>\n",
       "</table>\n",
       "</div>"
      ],
      "text/plain": [
       "   day  dayofweek  dayofyear  hour  month  quarter  week  weekday  weekofyear  \\\n",
       "0    1          1          1     0      1        1     1        1           1   \n",
       "1    1          1          1     1      1        1     1        1           1   \n",
       "2    1          1          1     2      1        1     1        1           1   \n",
       "3    1          1          1     3      1        1     1        1           1   \n",
       "4    1          1          1     4      1        1     1        1           1   \n",
       "\n",
       "   year  \n",
       "0  2019  \n",
       "1  2019  \n",
       "2  2019  \n",
       "3  2019  \n",
       "4  2019  "
      ]
     },
     "execution_count": 355,
     "metadata": {},
     "output_type": "execute_result"
    }
   ],
   "source": [
    "energy_test_mv.head()"
   ]
  },
  {
   "cell_type": "code",
   "execution_count": 356,
   "id": "e6d72aee",
   "metadata": {},
   "outputs": [],
   "source": [
    "energy_train_mv=energy_train_mv.drop('datetime',axis=1)"
   ]
  },
  {
   "cell_type": "code",
   "execution_count": 357,
   "id": "8cc7cf00",
   "metadata": {},
   "outputs": [
    {
     "data": {
      "text/html": [
       "<div>\n",
       "<style scoped>\n",
       "    .dataframe tbody tr th:only-of-type {\n",
       "        vertical-align: middle;\n",
       "    }\n",
       "\n",
       "    .dataframe tbody tr th {\n",
       "        vertical-align: top;\n",
       "    }\n",
       "\n",
       "    .dataframe thead th {\n",
       "        text-align: right;\n",
       "    }\n",
       "</style>\n",
       "<table border=\"1\" class=\"dataframe\">\n",
       "  <thead>\n",
       "    <tr style=\"text-align: right;\">\n",
       "      <th></th>\n",
       "      <th>energy</th>\n",
       "      <th>day</th>\n",
       "      <th>dayofweek</th>\n",
       "      <th>dayofyear</th>\n",
       "      <th>hour</th>\n",
       "      <th>month</th>\n",
       "      <th>quarter</th>\n",
       "      <th>week</th>\n",
       "      <th>weekday</th>\n",
       "      <th>weekofyear</th>\n",
       "      <th>year</th>\n",
       "    </tr>\n",
       "  </thead>\n",
       "  <tbody>\n",
       "    <tr>\n",
       "      <th>0</th>\n",
       "      <td>1259.985563</td>\n",
       "      <td>1</td>\n",
       "      <td>5</td>\n",
       "      <td>61</td>\n",
       "      <td>0</td>\n",
       "      <td>3</td>\n",
       "      <td>1</td>\n",
       "      <td>9</td>\n",
       "      <td>5</td>\n",
       "      <td>9</td>\n",
       "      <td>2008</td>\n",
       "    </tr>\n",
       "    <tr>\n",
       "      <th>1</th>\n",
       "      <td>1095.5415</td>\n",
       "      <td>1</td>\n",
       "      <td>5</td>\n",
       "      <td>61</td>\n",
       "      <td>1</td>\n",
       "      <td>3</td>\n",
       "      <td>1</td>\n",
       "      <td>9</td>\n",
       "      <td>5</td>\n",
       "      <td>9</td>\n",
       "      <td>2008</td>\n",
       "    </tr>\n",
       "    <tr>\n",
       "      <th>2</th>\n",
       "      <td>1056.2475</td>\n",
       "      <td>1</td>\n",
       "      <td>5</td>\n",
       "      <td>61</td>\n",
       "      <td>2</td>\n",
       "      <td>3</td>\n",
       "      <td>1</td>\n",
       "      <td>9</td>\n",
       "      <td>5</td>\n",
       "      <td>9</td>\n",
       "      <td>2008</td>\n",
       "    </tr>\n",
       "    <tr>\n",
       "      <th>3</th>\n",
       "      <td>1034.742</td>\n",
       "      <td>1</td>\n",
       "      <td>5</td>\n",
       "      <td>61</td>\n",
       "      <td>3</td>\n",
       "      <td>3</td>\n",
       "      <td>1</td>\n",
       "      <td>9</td>\n",
       "      <td>5</td>\n",
       "      <td>9</td>\n",
       "      <td>2008</td>\n",
       "    </tr>\n",
       "    <tr>\n",
       "      <th>4</th>\n",
       "      <td>1026.3345</td>\n",
       "      <td>1</td>\n",
       "      <td>5</td>\n",
       "      <td>61</td>\n",
       "      <td>4</td>\n",
       "      <td>3</td>\n",
       "      <td>1</td>\n",
       "      <td>9</td>\n",
       "      <td>5</td>\n",
       "      <td>9</td>\n",
       "      <td>2008</td>\n",
       "    </tr>\n",
       "  </tbody>\n",
       "</table>\n",
       "</div>"
      ],
      "text/plain": [
       "        energy  day  dayofweek  dayofyear  hour  month  quarter  week  \\\n",
       "0  1259.985563    1          5         61     0      3        1     9   \n",
       "1    1095.5415    1          5         61     1      3        1     9   \n",
       "2    1056.2475    1          5         61     2      3        1     9   \n",
       "3     1034.742    1          5         61     3      3        1     9   \n",
       "4    1026.3345    1          5         61     4      3        1     9   \n",
       "\n",
       "   weekday  weekofyear  year  \n",
       "0        5           9  2008  \n",
       "1        5           9  2008  \n",
       "2        5           9  2008  \n",
       "3        5           9  2008  \n",
       "4        5           9  2008  "
      ]
     },
     "execution_count": 357,
     "metadata": {},
     "output_type": "execute_result"
    }
   ],
   "source": [
    "energy_train_mv.head()"
   ]
  },
  {
   "cell_type": "code",
   "execution_count": 361,
   "id": "167401bc",
   "metadata": {},
   "outputs": [
    {
     "data": {
      "text/plain": [
       "energy        float64\n",
       "day             int64\n",
       "dayofweek       int64\n",
       "dayofyear       int64\n",
       "hour            int64\n",
       "month           int64\n",
       "quarter         int64\n",
       "week            int64\n",
       "weekday         int64\n",
       "weekofyear      int64\n",
       "year            int64\n",
       "dtype: object"
      ]
     },
     "execution_count": 361,
     "metadata": {},
     "output_type": "execute_result"
    }
   ],
   "source": [
    "energy_train_mv.dtypes"
   ]
  },
  {
   "cell_type": "code",
   "execution_count": 360,
   "id": "030b3694",
   "metadata": {},
   "outputs": [],
   "source": [
    "energy_train_mv.energy=energy_train_mv.energy.astype('float64')"
   ]
  },
  {
   "cell_type": "code",
   "execution_count": 362,
   "id": "658f18a9",
   "metadata": {},
   "outputs": [],
   "source": [
    "y=energy_train_mv.energy\n",
    "X=energy_train_mv.drop('energy',axis=1)"
   ]
  },
  {
   "cell_type": "code",
   "execution_count": 365,
   "id": "9e7135a6",
   "metadata": {},
   "outputs": [],
   "source": [
    "from sklearn.linear_model import LinearRegression"
   ]
  },
  {
   "cell_type": "code",
   "execution_count": 366,
   "id": "b649782c",
   "metadata": {},
   "outputs": [],
   "source": [
    "reg=LinearRegression()"
   ]
  },
  {
   "cell_type": "code",
   "execution_count": 368,
   "id": "caa011cc",
   "metadata": {},
   "outputs": [],
   "source": [
    "regmodel=reg.fit(X,y)"
   ]
  },
  {
   "cell_type": "code",
   "execution_count": 369,
   "id": "066b48a1",
   "metadata": {},
   "outputs": [
    {
     "data": {
      "text/plain": [
       "0.48759404400512885"
      ]
     },
     "execution_count": 369,
     "metadata": {},
     "output_type": "execute_result"
    }
   ],
   "source": [
    "regmodel.score(X,y)"
   ]
  },
  {
   "cell_type": "code",
   "execution_count": 370,
   "id": "b5f4ab30",
   "metadata": {},
   "outputs": [],
   "source": [
    "regpredict=regmodel.predict(energy_test_mv)"
   ]
  },
  {
   "cell_type": "code",
   "execution_count": 371,
   "id": "93a10ba3",
   "metadata": {},
   "outputs": [],
   "source": [
    "pd.DataFrame(regpredict).to_csv('reg.csv')"
   ]
  },
  {
   "cell_type": "code",
   "execution_count": 372,
   "id": "307ddd00",
   "metadata": {},
   "outputs": [],
   "source": [
    "from sklearn.tree import DecisionTreeRegressor"
   ]
  },
  {
   "cell_type": "code",
   "execution_count": 388,
   "id": "c473144a",
   "metadata": {},
   "outputs": [],
   "source": [
    "tree=DecisionTreeRegressor(max_depth=12)"
   ]
  },
  {
   "cell_type": "code",
   "execution_count": 389,
   "id": "8c404a9e",
   "metadata": {},
   "outputs": [],
   "source": [
    "treemodel=tree.fit(X,y)"
   ]
  },
  {
   "cell_type": "code",
   "execution_count": 390,
   "id": "d379f619",
   "metadata": {},
   "outputs": [
    {
     "data": {
      "text/plain": [
       "0.9107031017152549"
      ]
     },
     "execution_count": 390,
     "metadata": {},
     "output_type": "execute_result"
    }
   ],
   "source": [
    "treemodel.score(X,y)"
   ]
  },
  {
   "cell_type": "code",
   "execution_count": 391,
   "id": "c25e7c95",
   "metadata": {},
   "outputs": [],
   "source": [
    "treepredict=treemodel.predict(energy_test_mv)"
   ]
  },
  {
   "cell_type": "code",
   "execution_count": 393,
   "id": "a9bd91c8",
   "metadata": {},
   "outputs": [],
   "source": [
    "pd.DataFrame(treepredict).to_csv('tree.csv')"
   ]
  },
  {
   "cell_type": "code",
   "execution_count": 394,
   "id": "2853222a",
   "metadata": {},
   "outputs": [],
   "source": [
    "from sklearn.ensemble import RandomForestRegressor"
   ]
  },
  {
   "cell_type": "code",
   "execution_count": 395,
   "id": "4742129d",
   "metadata": {},
   "outputs": [],
   "source": [
    "rf=RandomForestRegressor(n_estimators=2000,max_depth=12)"
   ]
  },
  {
   "cell_type": "code",
   "execution_count": 396,
   "id": "dbb32d9b",
   "metadata": {},
   "outputs": [],
   "source": [
    "rfmodel=rf.fit(X,y)"
   ]
  },
  {
   "cell_type": "code",
   "execution_count": 399,
   "id": "72121e94",
   "metadata": {},
   "outputs": [
    {
     "data": {
      "text/plain": [
       "0.9285986371501638"
      ]
     },
     "execution_count": 399,
     "metadata": {},
     "output_type": "execute_result"
    }
   ],
   "source": [
    "rfmodel.score(X,y)"
   ]
  },
  {
   "cell_type": "code",
   "execution_count": 397,
   "id": "2cf5bd2d",
   "metadata": {},
   "outputs": [],
   "source": [
    "rfpredict=rfmodel.predict(energy_test_mv)"
   ]
  },
  {
   "cell_type": "code",
   "execution_count": 398,
   "id": "cae25a01",
   "metadata": {},
   "outputs": [],
   "source": [
    "pd.DataFrame(rfpredict).to_csv('rf.csv')"
   ]
  },
  {
   "cell_type": "code",
   "execution_count": 400,
   "id": "b8291877",
   "metadata": {},
   "outputs": [],
   "source": [
    "from sklearn.ensemble import GradientBoostingRegressor"
   ]
  },
  {
   "cell_type": "code",
   "execution_count": 406,
   "id": "19559ce9",
   "metadata": {},
   "outputs": [],
   "source": [
    "gbm=GradientBoostingRegressor(n_estimators=2000,max_depth=6)"
   ]
  },
  {
   "cell_type": "code",
   "execution_count": 407,
   "id": "68d25bc3",
   "metadata": {},
   "outputs": [],
   "source": [
    "gbmmodel=gbm.fit(X,y)"
   ]
  },
  {
   "cell_type": "code",
   "execution_count": 408,
   "id": "d3dd24ea",
   "metadata": {},
   "outputs": [
    {
     "data": {
      "text/plain": [
       "0.9919034978448975"
      ]
     },
     "execution_count": 408,
     "metadata": {},
     "output_type": "execute_result"
    }
   ],
   "source": [
    "gbmmodel.score(X,y)"
   ]
  },
  {
   "cell_type": "code",
   "execution_count": 409,
   "id": "ac6d8343",
   "metadata": {},
   "outputs": [],
   "source": [
    "gbmpredict=gbmmodel.predict(energy_test_mv)"
   ]
  },
  {
   "cell_type": "code",
   "execution_count": 411,
   "id": "59f88c67",
   "metadata": {},
   "outputs": [],
   "source": [
    "pd.DataFrame(gbmpredict).to_csv('gbm1.csv')"
   ]
  },
  {
   "cell_type": "code",
   "execution_count": 412,
   "id": "83478322",
   "metadata": {},
   "outputs": [],
   "source": [
    "from xgboost import XGBRegressor"
   ]
  },
  {
   "cell_type": "code",
   "execution_count": 413,
   "id": "6848925a",
   "metadata": {},
   "outputs": [],
   "source": [
    "xgb=XGBRegressor()"
   ]
  },
  {
   "cell_type": "code",
   "execution_count": 414,
   "id": "4ea5831a",
   "metadata": {},
   "outputs": [],
   "source": [
    "xgbmodel=xgb.fit(X,y)"
   ]
  },
  {
   "cell_type": "code",
   "execution_count": 415,
   "id": "fe244a4a",
   "metadata": {},
   "outputs": [
    {
     "data": {
      "text/plain": [
       "0.9554088860272442"
      ]
     },
     "execution_count": 415,
     "metadata": {},
     "output_type": "execute_result"
    }
   ],
   "source": [
    "xgbmodel.score(X,y)"
   ]
  },
  {
   "cell_type": "code",
   "execution_count": 416,
   "id": "12dc5665",
   "metadata": {},
   "outputs": [],
   "source": [
    "xgbpredict=xgbmodel.predict(energy_test_mv)"
   ]
  },
  {
   "cell_type": "code",
   "execution_count": 417,
   "id": "653c8580",
   "metadata": {},
   "outputs": [],
   "source": [
    "pd.DataFrame(xgbpredict).to_csv('xgb.csv')"
   ]
  },
  {
   "cell_type": "code",
   "execution_count": 418,
   "id": "d01853dd",
   "metadata": {},
   "outputs": [],
   "source": [
    "from sklearn.neighbors import KNeighborsRegressor"
   ]
  },
  {
   "cell_type": "code",
   "execution_count": 419,
   "id": "642a4b87",
   "metadata": {},
   "outputs": [],
   "source": [
    "knn=KNeighborsRegressor()"
   ]
  },
  {
   "cell_type": "code",
   "execution_count": 420,
   "id": "3d202e44",
   "metadata": {},
   "outputs": [],
   "source": [
    "knnmodel=knn.fit(X,y)"
   ]
  },
  {
   "cell_type": "code",
   "execution_count": 421,
   "id": "571c4dfa",
   "metadata": {},
   "outputs": [
    {
     "data": {
      "text/plain": [
       "0.9425096280630494"
      ]
     },
     "execution_count": 421,
     "metadata": {},
     "output_type": "execute_result"
    }
   ],
   "source": [
    "knnmodel.score(X,y)"
   ]
  },
  {
   "cell_type": "code",
   "execution_count": 422,
   "id": "f0424f01",
   "metadata": {},
   "outputs": [],
   "source": [
    "knnpredict=knnmodel.predict(energy_test_mv)"
   ]
  },
  {
   "cell_type": "code",
   "execution_count": 423,
   "id": "6b2d58cc",
   "metadata": {},
   "outputs": [],
   "source": [
    "pd.DataFrame(knnpredict).to_csv('knn.csv')"
   ]
  },
  {
   "cell_type": "code",
   "execution_count": 425,
   "id": "85355c8c",
   "metadata": {},
   "outputs": [],
   "source": [
    "from sklearn.neural_network import MLPRegressor"
   ]
  },
  {
   "cell_type": "code",
   "execution_count": 426,
   "id": "50e29dcb",
   "metadata": {},
   "outputs": [],
   "source": [
    "nn=MLPRegressor(hidden_layer_sizes=(100,50,20))"
   ]
  },
  {
   "cell_type": "code",
   "execution_count": 427,
   "id": "f1729337",
   "metadata": {},
   "outputs": [],
   "source": [
    "nnmodel=nn.fit(X,y)"
   ]
  },
  {
   "cell_type": "code",
   "execution_count": 428,
   "id": "b429853f",
   "metadata": {},
   "outputs": [
    {
     "data": {
      "text/plain": [
       "0.4199712003002345"
      ]
     },
     "execution_count": 428,
     "metadata": {},
     "output_type": "execute_result"
    }
   ],
   "source": [
    "nnmodel.score(X,y)"
   ]
  },
  {
   "cell_type": "code",
   "execution_count": 429,
   "id": "0c45c208",
   "metadata": {},
   "outputs": [],
   "source": [
    "nnpredict=nnmodel.predict(energy_test_mv)"
   ]
  },
  {
   "cell_type": "code",
   "execution_count": null,
   "id": "26543019",
   "metadata": {},
   "outputs": [],
   "source": []
  }
 ],
 "metadata": {
  "kernelspec": {
   "display_name": "Python 3 (ipykernel)",
   "language": "python",
   "name": "python3"
  },
  "language_info": {
   "codemirror_mode": {
    "name": "ipython",
    "version": 3
   },
   "file_extension": ".py",
   "mimetype": "text/x-python",
   "name": "python",
   "nbconvert_exporter": "python",
   "pygments_lexer": "ipython3",
   "version": "3.9.12"
  }
 },
 "nbformat": 4,
 "nbformat_minor": 5
}
